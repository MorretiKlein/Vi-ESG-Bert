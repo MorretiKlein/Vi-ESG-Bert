{
 "cells": [
  {
   "cell_type": "markdown",
   "metadata": {},
   "source": [
    "### Set Up"
   ]
  },
  {
   "cell_type": "code",
   "execution_count": 1,
   "metadata": {
    "execution": {
     "iopub.execute_input": "2024-09-29T10:17:43.930604Z",
     "iopub.status.busy": "2024-09-29T10:17:43.930337Z",
     "iopub.status.idle": "2024-09-29T10:17:46.877133Z",
     "shell.execute_reply": "2024-09-29T10:17:46.876327Z",
     "shell.execute_reply.started": "2024-09-29T10:17:43.930572Z"
    },
    "trusted": true
   },
   "outputs": [],
   "source": [
    "import os\n",
    "import torch\n",
    "import numpy as np\n",
    "import pandas as pd\n",
    "import seaborn as sns\n",
    "import matplotlib.pyplot as plt\n",
    "\n",
    "from vncorenlp import VnCoreNLP #from pyvi import ViTokenizer\n",
    "from pyvi import ViTokenizer\n",
    "from gensim.utils import simple_preprocess\n",
    "from sklearn.model_selection import StratifiedKFold\n",
    "from sklearn.metrics import classification_report, confusion_matrix\n",
    "\n",
    "import torch.nn as nn\n",
    "from torch.optim import AdamW\n",
    "from torch.utils.data import Dataset, DataLoader\n",
    "\n",
    "from transformers import get_linear_schedule_with_warmup, AutoTokenizer, AutoModel, logging\n",
    "from transformers import RobertaForSequenceClassification, RobertaConfig, RobertaTokenizer, RobertaTokenizerFast, RobertaModel, AutoTokenizer\n",
    "\n",
    "\n",
    "import warnings\n",
    "warnings.filterwarnings(\"ignore\")\n",
    "from tqdm import tqdm\n",
    "\n",
    "logging.set_verbosity_error()"
   ]
  },
  {
   "cell_type": "code",
   "execution_count": 2,
   "metadata": {},
   "outputs": [],
   "source": [
    "import os\n",
    "os.environ[\"CUDA_LAUNCH_BLOCKING\"] = \"1\""
   ]
  },
  {
   "cell_type": "code",
   "execution_count": 3,
   "metadata": {
    "execution": {
     "iopub.execute_input": "2024-09-29T10:17:46.878815Z",
     "iopub.status.busy": "2024-09-29T10:17:46.878523Z",
     "iopub.status.idle": "2024-09-29T10:17:46.908168Z",
     "shell.execute_reply": "2024-09-29T10:17:46.90746Z",
     "shell.execute_reply.started": "2024-09-29T10:17:46.878778Z"
    },
    "trusted": true
   },
   "outputs": [],
   "source": [
    "def seed_everything(seed_value):\n",
    "    np.random.seed(seed_value)\n",
    "    torch.manual_seed(seed_value)\n",
    "    \n",
    "    if torch.cuda.is_available(): \n",
    "        torch.cuda.manual_seed(seed_value)\n",
    "        torch.cuda.manual_seed_all(seed_value)\n",
    "        torch.backends.cudnn.deterministic = True\n",
    "        torch.backends.cudnn.benchmark = True\n",
    "\n",
    "# seed_everything(86)"
   ]
  },
  {
   "cell_type": "code",
   "execution_count": 4,
   "metadata": {
    "execution": {
     "iopub.execute_input": "2024-09-29T10:17:46.910455Z",
     "iopub.status.busy": "2024-09-29T10:17:46.910192Z",
     "iopub.status.idle": "2024-09-29T10:17:46.915063Z",
     "shell.execute_reply": "2024-09-29T10:17:46.914436Z",
     "shell.execute_reply.started": "2024-09-29T10:17:46.910424Z"
    },
    "trusted": true
   },
   "outputs": [],
   "source": [
    "device = torch.device('cuda:0' if torch.cuda.is_available() else 'cpu')"
   ]
  },
  {
   "cell_type": "code",
   "execution_count": 5,
   "metadata": {},
   "outputs": [
    {
     "data": {
      "text/plain": [
       "device(type='cuda', index=0)"
      ]
     },
     "execution_count": 5,
     "metadata": {},
     "output_type": "execute_result"
    }
   ],
   "source": [
    "device"
   ]
  },
  {
   "cell_type": "markdown",
   "metadata": {},
   "source": [
    "### Load Data"
   ]
  },
  {
   "cell_type": "code",
   "execution_count": 6,
   "metadata": {},
   "outputs": [
    {
     "data": {
      "text/html": [
       "<div>\n",
       "<style scoped>\n",
       "    .dataframe tbody tr th:only-of-type {\n",
       "        vertical-align: middle;\n",
       "    }\n",
       "\n",
       "    .dataframe tbody tr th {\n",
       "        vertical-align: top;\n",
       "    }\n",
       "\n",
       "    .dataframe thead th {\n",
       "        text-align: right;\n",
       "    }\n",
       "</style>\n",
       "<table border=\"1\" class=\"dataframe\">\n",
       "  <thead>\n",
       "    <tr style=\"text-align: right;\">\n",
       "      <th></th>\n",
       "      <th>Sentences</th>\n",
       "      <th>labels</th>\n",
       "    </tr>\n",
       "  </thead>\n",
       "  <tbody>\n",
       "    <tr>\n",
       "      <th>0</th>\n",
       "      <td>Thêm dấu phẩy sau trên 700 nghìn tỷ đồng vốn đ...</td>\n",
       "      <td>0</td>\n",
       "    </tr>\n",
       "    <tr>\n",
       "      <th>1</th>\n",
       "      <td>Lựa chọn cổ phiếu niêm yết có chỉ số PB cao đư...</td>\n",
       "      <td>0</td>\n",
       "    </tr>\n",
       "    <tr>\n",
       "      <th>2</th>\n",
       "      <td>Chính sách bảo hiểm nông nghiệp là tia hy vọng...</td>\n",
       "      <td>2</td>\n",
       "    </tr>\n",
       "    <tr>\n",
       "      <th>3</th>\n",
       "      <td>Ngoài ra Vingroup cam kết phát triển các dự án...</td>\n",
       "      <td>2</td>\n",
       "    </tr>\n",
       "    <tr>\n",
       "      <th>4</th>\n",
       "      <td>Diện tích trồng cà gai leo tại địa phương là k...</td>\n",
       "      <td>1</td>\n",
       "    </tr>\n",
       "    <tr>\n",
       "      <th>...</th>\n",
       "      <td>...</td>\n",
       "      <td>...</td>\n",
       "    </tr>\n",
       "    <tr>\n",
       "      <th>37631</th>\n",
       "      <td>Chúng tôi là một trong những công ty Thụy Sĩ đ...</td>\n",
       "      <td>1</td>\n",
       "    </tr>\n",
       "    <tr>\n",
       "      <th>37632</th>\n",
       "      <td>Chúng ta sẽ đạt được mục tiêu này bằng cách tr...</td>\n",
       "      <td>1</td>\n",
       "    </tr>\n",
       "    <tr>\n",
       "      <th>37633</th>\n",
       "      <td>Điều này có nghĩa là cải thiện hiệu quả điện n...</td>\n",
       "      <td>1</td>\n",
       "    </tr>\n",
       "    <tr>\n",
       "      <th>37634</th>\n",
       "      <td>Năm 2021 chúng tôi đã tiến hành bước đầu tiên ...</td>\n",
       "      <td>1</td>\n",
       "    </tr>\n",
       "    <tr>\n",
       "      <th>37635</th>\n",
       "      <td>Mục đích là để khai thác tiềm năng của chính c...</td>\n",
       "      <td>1</td>\n",
       "    </tr>\n",
       "  </tbody>\n",
       "</table>\n",
       "<p>37636 rows × 2 columns</p>\n",
       "</div>"
      ],
      "text/plain": [
       "                                               Sentences  labels\n",
       "0      Thêm dấu phẩy sau trên 700 nghìn tỷ đồng vốn đ...       0\n",
       "1      Lựa chọn cổ phiếu niêm yết có chỉ số PB cao đư...       0\n",
       "2      Chính sách bảo hiểm nông nghiệp là tia hy vọng...       2\n",
       "3      Ngoài ra Vingroup cam kết phát triển các dự án...       2\n",
       "4      Diện tích trồng cà gai leo tại địa phương là k...       1\n",
       "...                                                  ...     ...\n",
       "37631  Chúng tôi là một trong những công ty Thụy Sĩ đ...       1\n",
       "37632  Chúng ta sẽ đạt được mục tiêu này bằng cách tr...       1\n",
       "37633  Điều này có nghĩa là cải thiện hiệu quả điện n...       1\n",
       "37634  Năm 2021 chúng tôi đã tiến hành bước đầu tiên ...       1\n",
       "37635  Mục đích là để khai thác tiềm năng của chính c...       1\n",
       "\n",
       "[37636 rows x 2 columns]"
      ]
     },
     "execution_count": 6,
     "metadata": {},
     "output_type": "execute_result"
    }
   ],
   "source": [
    "filename_train = \"data_pseudo_vireport/train_data_high.csv\"\n",
    "filename_test = \"data_pseudo_vireport/final_test.csv\"\n",
    "\n",
    "data_train = pd.read_csv(filename_train)\n",
    "data_test = pd.read_csv(filename_test)\n",
    "data_train"
   ]
  },
  {
   "cell_type": "code",
   "execution_count": 7,
   "metadata": {},
   "outputs": [
    {
     "data": {
      "text/plain": [
       "<Axes: xlabel='labels', ylabel='count'>"
      ]
     },
     "execution_count": 7,
     "metadata": {},
     "output_type": "execute_result"
    },
    {
     "data": {
      "image/png": "[encoded data removed]",
      "text/plain": [
       "<Figure size 640x480 with 1 Axes>"
      ]
     },
     "metadata": {},
     "output_type": "display_data"
    }
   ],
   "source": [
    "sns.countplot(x='labels', data=data_train)"
   ]
  },
  {
   "cell_type": "code",
   "execution_count": 8,
   "metadata": {},
   "outputs": [
    {
     "data": {
      "text/html": [
       "<div>\n",
       "<style scoped>\n",
       "    .dataframe tbody tr th:only-of-type {\n",
       "        vertical-align: middle;\n",
       "    }\n",
       "\n",
       "    .dataframe tbody tr th {\n",
       "        vertical-align: top;\n",
       "    }\n",
       "\n",
       "    .dataframe thead th {\n",
       "        text-align: right;\n",
       "    }\n",
       "</style>\n",
       "<table border=\"1\" class=\"dataframe\">\n",
       "  <thead>\n",
       "    <tr style=\"text-align: right;\">\n",
       "      <th></th>\n",
       "      <th>Sentences</th>\n",
       "      <th>labels</th>\n",
       "    </tr>\n",
       "  </thead>\n",
       "  <tbody>\n",
       "    <tr>\n",
       "      <th>0</th>\n",
       "      <td>Cũng qua điều này, người ta có thể hiểu rằng t...</td>\n",
       "      <td>0</td>\n",
       "    </tr>\n",
       "    <tr>\n",
       "      <th>1</th>\n",
       "      <td>Ông được biết đến như một người tiên phong tro...</td>\n",
       "      <td>2</td>\n",
       "    </tr>\n",
       "    <tr>\n",
       "      <th>2</th>\n",
       "      <td>Vietjet bắt đầu báo cáo, thống kê và xác minh ...</td>\n",
       "      <td>1</td>\n",
       "    </tr>\n",
       "    <tr>\n",
       "      <th>3</th>\n",
       "      <td>SSI luôn khuyến khích và tạo điều kiện tốt nhấ...</td>\n",
       "      <td>2</td>\n",
       "    </tr>\n",
       "    <tr>\n",
       "      <th>4</th>\n",
       "      <td>Triển khai và giao tiếp, cung cấp đào tạo về t...</td>\n",
       "      <td>3</td>\n",
       "    </tr>\n",
       "    <tr>\n",
       "      <th>...</th>\n",
       "      <td>...</td>\n",
       "      <td>...</td>\n",
       "    </tr>\n",
       "    <tr>\n",
       "      <th>2995</th>\n",
       "      <td>Ngoài hỗ trợ tài chính, Quỹ Đổi mới sáng tạo V...</td>\n",
       "      <td>3</td>\n",
       "    </tr>\n",
       "    <tr>\n",
       "      <th>2996</th>\n",
       "      <td>Dẫn dắt một tổ chức thành công đòi hỏi sự hiểu...</td>\n",
       "      <td>0</td>\n",
       "    </tr>\n",
       "    <tr>\n",
       "      <th>2997</th>\n",
       "      <td>Hãy tiếp tục theo đuổi một cách tận tâm những ...</td>\n",
       "      <td>3</td>\n",
       "    </tr>\n",
       "    <tr>\n",
       "      <th>2998</th>\n",
       "      <td>Vicostone không ngừng phát hành các bộ sưu tập...</td>\n",
       "      <td>2</td>\n",
       "    </tr>\n",
       "    <tr>\n",
       "      <th>2999</th>\n",
       "      <td>Ông Nguyễn Việt Quang được bầu vào Hội đồng qu...</td>\n",
       "      <td>3</td>\n",
       "    </tr>\n",
       "  </tbody>\n",
       "</table>\n",
       "<p>3000 rows × 2 columns</p>\n",
       "</div>"
      ],
      "text/plain": [
       "                                              Sentences  labels\n",
       "0     Cũng qua điều này, người ta có thể hiểu rằng t...       0\n",
       "1     Ông được biết đến như một người tiên phong tro...       2\n",
       "2     Vietjet bắt đầu báo cáo, thống kê và xác minh ...       1\n",
       "3     SSI luôn khuyến khích và tạo điều kiện tốt nhấ...       2\n",
       "4     Triển khai và giao tiếp, cung cấp đào tạo về t...       3\n",
       "...                                                 ...     ...\n",
       "2995  Ngoài hỗ trợ tài chính, Quỹ Đổi mới sáng tạo V...       3\n",
       "2996  Dẫn dắt một tổ chức thành công đòi hỏi sự hiểu...       0\n",
       "2997  Hãy tiếp tục theo đuổi một cách tận tâm những ...       3\n",
       "2998  Vicostone không ngừng phát hành các bộ sưu tập...       2\n",
       "2999  Ông Nguyễn Việt Quang được bầu vào Hội đồng qu...       3\n",
       "\n",
       "[3000 rows x 2 columns]"
      ]
     },
     "execution_count": 8,
     "metadata": {},
     "output_type": "execute_result"
    }
   ],
   "source": [
    "data_test"
   ]
  },
  {
   "cell_type": "markdown",
   "metadata": {},
   "source": [
    "### DataLoader"
   ]
  },
  {
   "cell_type": "code",
   "execution_count": 9,
   "metadata": {
    "execution": {
     "iopub.execute_input": "2024-09-29T10:17:48.05491Z",
     "iopub.status.busy": "2024-09-29T10:17:48.054679Z",
     "iopub.status.idle": "2024-09-29T10:17:52.061508Z",
     "shell.execute_reply": "2024-09-29T10:17:52.060803Z",
     "shell.execute_reply.started": "2024-09-29T10:17:48.05488Z"
    },
    "trusted": true
   },
   "outputs": [],
   "source": [
    "bert_base = \"./vinai/phobert-base\"\n",
    "tokenizer = AutoTokenizer.from_pretrained(bert_base, use_fast=False, local_files_only=True)\n",
    "rdrsegmenter = VnCoreNLP(\"./vncorenlp/VnCoreNLP-1.1.1.jar\", annotators=\"wseg\", max_heap_size='-Xmx500m')"
   ]
  },
  {
   "cell_type": "markdown",
   "metadata": {},
   "source": [
    "A word segmenter must be applied to produce word-segmented texts before feeding to PhoBERT"
   ]
  },
  {
   "cell_type": "code",
   "execution_count": null,
   "metadata": {
    "execution": {
     "iopub.execute_input": "2024-09-29T10:17:52.063001Z",
     "iopub.status.busy": "2024-09-29T10:17:52.062754Z",
     "iopub.status.idle": "2024-09-29T10:17:52.077952Z",
     "shell.execute_reply": "2024-09-29T10:17:52.077172Z",
     "shell.execute_reply.started": "2024-09-29T10:17:52.062969Z"
    },
    "trusted": true
   },
   "outputs": [],
   "source": [
    "class BERTDataset(Dataset):\n",
    "    def __init__(self, df, tokenizer, max_len):\n",
    "        self.df = df\n",
    "        self.max_len = max_len\n",
    "        self.text = df['Sentences']\n",
    "        self.tokenizer = tokenizer\n",
    "        self.targets = df[\"labels\"].values.astype(int)  # đảm bảo là số nguyên\n",
    "        \n",
    "    def __len__(self):\n",
    "        return len(self.df)\n",
    "    \n",
    "    def __getitem__(self, index):\n",
    "        text = self.text[index]\n",
    "        text = ' '.join(simple_preprocess(text))\n",
    "        text = ViTokenizer.tokenize(text)\n",
    "        inputs = self.tokenizer.encode_plus(\n",
    "            text,\n",
    "            truncation=True,\n",
    "            add_special_tokens=True,\n",
    "            max_length=self.max_len,\n",
    "            padding='max_length',\n",
    "            return_token_type_ids=True\n",
    "        )\n",
    "        ids = inputs['input_ids']\n",
    "        mask = inputs['attention_mask']\n",
    "        token_type_ids = inputs[\"token_type_ids\"]\n",
    "        \n",
    "        return {\n",
    "            'ids': torch.tensor(ids, dtype=torch.long),\n",
    "            'mask': torch.tensor(mask, dtype=torch.long),\n",
    "            'token_type_ids': torch.tensor(token_type_ids, dtype=torch.long),\n",
    "            'targets': torch.tensor(self.targets[index], dtype=torch.long)  # sửa từ float -> long\n",
    "        }\n"
   ]
  },
  {
   "cell_type": "markdown",
   "metadata": {},
   "source": [
    "### **Find Max Length**"
   ]
  },
  {
   "cell_type": "markdown",
   "metadata": {},
   "source": [
    "**BERT works with fixed-length sequences. We’ll use a simple strategy to choose the max length.**"
   ]
  },
  {
   "cell_type": "code",
   "execution_count": 11,
   "metadata": {
    "execution": {
     "iopub.execute_input": "2024-09-29T10:17:52.079232Z",
     "iopub.status.busy": "2024-09-29T10:17:52.07903Z",
     "iopub.status.idle": "2024-09-29T10:17:54.177865Z",
     "shell.execute_reply": "2024-09-29T10:17:54.177093Z",
     "shell.execute_reply.started": "2024-09-29T10:17:52.079205Z"
    },
    "trusted": true
   },
   "outputs": [
    {
     "data": {
      "text/plain": [
       "[]"
      ]
     },
     "execution_count": 11,
     "metadata": {},
     "output_type": "execute_result"
    },
    {
     "data": {
      "image/png": "[encoded data removed]",
      "text/plain": [
       "<Figure size 500x500 with 1 Axes>"
      ]
     },
     "metadata": {},
     "output_type": "display_data"
    }
   ],
   "source": [
    "# Distribution of length of Sentence\n",
    "all_data = data_train[\"Sentences\"]\n",
    "all_data = [' '.join(simple_preprocess(text)) for text in all_data]\n",
    "encoded_text = [tokenizer.encode(text, add_special_tokens=True) for text in all_data]\n",
    "token_lens = [len(text) for text in encoded_text]\n",
    "sns.displot(token_lens)\n",
    "plt.xlim([0,max(token_lens)])\n",
    "plt.xlabel('Token Count')\n",
    "plt.plot()"
   ]
  },
  {
   "cell_type": "markdown",
   "metadata": {},
   "source": [
    "**=> Choose a maximum of length of 256 is safe.**"
   ]
  },
  {
   "cell_type": "markdown",
   "metadata": {},
   "source": [
    "### Model"
   ]
  },
  {
   "cell_type": "code",
   "execution_count": 12,
   "metadata": {},
   "outputs": [],
   "source": [
    "train_dataset = BERTDataset(data_train, tokenizer, 128)\n",
    "valid_dataset = BERTDataset(data_test, tokenizer, 128)"
   ]
  },
  {
   "cell_type": "code",
   "execution_count": 13,
   "metadata": {},
   "outputs": [],
   "source": [
    "train_loader = DataLoader(train_dataset, batch_size=32, \n",
    "                          num_workers=4, shuffle=True, pin_memory=True)\n",
    "valid_loader = DataLoader(valid_dataset, batch_size=32, \n",
    "                          num_workers=4, shuffle=False, pin_memory=True)"
   ]
  },
  {
   "cell_type": "code",
   "execution_count": 14,
   "metadata": {},
   "outputs": [
    {
     "name": "stdout",
     "output_type": "stream",
     "text": [
      "Batch 0\n",
      "IDs: torch.Size([32, 128])\n",
      "Masks: torch.Size([32, 128])\n",
      "Token Type IDs: torch.Size([32, 128])\n",
      "Targets: torch.Size([32])\n",
      "Sample 0 - IDs: tensor([    0,   146,   302,  1430,    12,   276,     7,   572,    70,  2665,\n",
      "         2652,    30,    61,   302,   675,     7,   675,  6892,     6,   572,\n",
      "           70,  2105, 10125,  6520,   548,    67,    10,  4623,     2,     1,\n",
      "            1,     1,     1,     1,     1,     1,     1,     1,     1,     1,\n",
      "            1,     1,     1,     1,     1,     1,     1,     1,     1,     1,\n",
      "            1,     1,     1,     1,     1,     1,     1,     1,     1,     1,\n",
      "            1,     1,     1,     1,     1,     1,     1,     1,     1,     1,\n",
      "            1,     1,     1,     1,     1,     1,     1,     1,     1,     1,\n",
      "            1,     1,     1,     1,     1,     1,     1,     1,     1,     1,\n",
      "            1,     1,     1,     1,     1,     1,     1,     1,     1,     1,\n",
      "            1,     1,     1,     1,     1,     1,     1,     1,     1,     1,\n",
      "            1,     1,     1,     1,     1,     1,     1,     1,     1,     1,\n",
      "            1,     1,     1,     1,     1,     1,     1,     1])\n",
      "Sample 0 - Targets: tensor(2)\n"
     ]
    }
   ],
   "source": [
    "for batch_idx, data in enumerate(train_loader):\n",
    "    print(f\"Batch {batch_idx}\")\n",
    "    \n",
    "    ids = data['ids']\n",
    "    mask = data['mask']\n",
    "    token_type_ids = data['token_type_ids']\n",
    "    targets = data['targets']\n",
    "\n",
    "    print(\"IDs:\", ids.shape)\n",
    "    print(\"Masks:\", mask.shape)\n",
    "    print(\"Token Type IDs:\", token_type_ids.shape)\n",
    "    print(\"Targets:\", targets.shape)\n",
    "\n",
    "    print(\"Sample 0 - IDs:\", ids[0])\n",
    "    print(\"Sample 0 - Targets:\", targets[0])\n",
    "    break\n"
   ]
  },
  {
   "cell_type": "code",
   "execution_count": 15,
   "metadata": {},
   "outputs": [
    {
     "data": {
      "text/plain": [
       "ROBERTAClassifier(\n",
       "  (roberta): RobertaModel(\n",
       "    (embeddings): RobertaEmbeddings(\n",
       "      (word_embeddings): Embedding(64001, 768, padding_idx=1)\n",
       "      (position_embeddings): Embedding(258, 768, padding_idx=1)\n",
       "      (token_type_embeddings): Embedding(1, 768)\n",
       "      (LayerNorm): LayerNorm((768,), eps=1e-05, elementwise_affine=True)\n",
       "      (dropout): Dropout(p=0.1, inplace=False)\n",
       "    )\n",
       "    (encoder): RobertaEncoder(\n",
       "      (layer): ModuleList(\n",
       "        (0-11): 12 x RobertaLayer(\n",
       "          (attention): RobertaAttention(\n",
       "            (self): RobertaSdpaSelfAttention(\n",
       "              (query): Linear(in_features=768, out_features=768, bias=True)\n",
       "              (key): Linear(in_features=768, out_features=768, bias=True)\n",
       "              (value): Linear(in_features=768, out_features=768, bias=True)\n",
       "              (dropout): Dropout(p=0.1, inplace=False)\n",
       "            )\n",
       "            (output): RobertaSelfOutput(\n",
       "              (dense): Linear(in_features=768, out_features=768, bias=True)\n",
       "              (LayerNorm): LayerNorm((768,), eps=1e-05, elementwise_affine=True)\n",
       "              (dropout): Dropout(p=0.1, inplace=False)\n",
       "            )\n",
       "          )\n",
       "          (intermediate): RobertaIntermediate(\n",
       "            (dense): Linear(in_features=768, out_features=3072, bias=True)\n",
       "            (intermediate_act_fn): GELUActivation()\n",
       "          )\n",
       "          (output): RobertaOutput(\n",
       "            (dense): Linear(in_features=3072, out_features=768, bias=True)\n",
       "            (LayerNorm): LayerNorm((768,), eps=1e-05, elementwise_affine=True)\n",
       "            (dropout): Dropout(p=0.1, inplace=False)\n",
       "          )\n",
       "        )\n",
       "      )\n",
       "    )\n",
       "    (pooler): RobertaPooler(\n",
       "      (dense): Linear(in_features=768, out_features=768, bias=True)\n",
       "      (activation): Tanh()\n",
       "    )\n",
       "  )\n",
       "  (d1): Dropout(p=0.3, inplace=False)\n",
       "  (l1): Linear(in_features=768, out_features=64, bias=True)\n",
       "  (bn1): LayerNorm((64,), eps=1e-05, elementwise_affine=True)\n",
       "  (d2): Dropout(p=0.3, inplace=False)\n",
       "  (l2): Linear(in_features=64, out_features=4, bias=True)\n",
       ")"
      ]
     },
     "execution_count": 15,
     "metadata": {},
     "output_type": "execute_result"
    }
   ],
   "source": [
    "class ROBERTAClassifier(torch.nn.Module):\n",
    "    def __init__(self, num_labels, dropout_rate=0.3):\n",
    "        super(ROBERTAClassifier, self).__init__()\n",
    "        self.roberta = RobertaModel.from_pretrained(bert_base, local_files_only=True).to(torch.device(\"cuda:0\"))\n",
    "        self.d1 = torch.nn.Dropout(dropout_rate)\n",
    "        self.l1 = torch.nn.Linear(self.roberta.config.hidden_size, 64)\n",
    "        self.bn1 = torch.nn.LayerNorm(64)\n",
    "        self.d2 = torch.nn.Dropout(dropout_rate)\n",
    "        self.l2 = torch.nn.Linear(64, num_labels)\n",
    "        \n",
    "    def forward(self, input_ids, attention_mask, token_type_ids):\n",
    "        _, x = self.roberta(input_ids=input_ids, attention_mask=attention_mask, token_type_ids = token_type_ids, return_dict=False)\n",
    "        x = self.d1(x)\n",
    "        x = self.l1(x)\n",
    "        x = self.bn1(x)\n",
    "        x = torch.nn.Tanh()(x)\n",
    "        x = self.d2(x)\n",
    "        x = self.l2(x)\n",
    "        return x \n",
    "model = ROBERTAClassifier(4)\n",
    "model.to(device)\n"
   ]
  },
  {
   "cell_type": "markdown",
   "metadata": {},
   "source": [
    "### Train & Eval Function"
   ]
  },
  {
   "cell_type": "markdown",
   "metadata": {},
   "source": [
    "## Prepare data"
   ]
  },
  {
   "cell_type": "code",
   "execution_count": 16,
   "metadata": {},
   "outputs": [],
   "source": [
    "def loss_fn(outputs, targets):\n",
    "    return torch.nn.CrossEntropyLoss()(outputs, targets)"
   ]
  },
  {
   "cell_type": "code",
   "execution_count": 17,
   "metadata": {},
   "outputs": [],
   "source": [
    "EPOCHS = 5\n",
    "LEARNING_RATE = 2e-5"
   ]
  },
  {
   "cell_type": "code",
   "execution_count": 18,
   "metadata": {},
   "outputs": [],
   "source": [
    "optimizer = AdamW(params =  model.parameters(), lr=LEARNING_RATE, weight_decay=1e-6)"
   ]
  },
  {
   "cell_type": "code",
   "execution_count": 19,
   "metadata": {},
   "outputs": [],
   "source": [
    "def train(epoch):\n",
    "    model.train()\n",
    "    for _,data in enumerate(train_loader, 0):\n",
    "        ids = data['ids'].to(device, dtype = torch.long)\n",
    "        mask = data['mask'].to(device, dtype = torch.long)\n",
    "        token_type_ids = data['token_type_ids'].to(device, dtype = torch.long)\n",
    "        targets = data['targets'].to(device, dtype = torch.long)\n",
    "\n",
    "        outputs = model(ids, mask, token_type_ids)\n",
    "\n",
    "        loss = loss_fn(outputs, targets)\n",
    "        if _%500 == 0:\n",
    "            print(f'Epoch: {epoch}, Loss:  {loss.item()}')\n",
    "        \n",
    "        loss.backward()\n",
    "        optimizer.step()\n",
    "        optimizer.zero_grad()"
   ]
  },
  {
   "cell_type": "code",
   "execution_count": 20,
   "metadata": {},
   "outputs": [
    {
     "data": {
      "text/plain": [
       "array([0, 2, 1, 3])"
      ]
     },
     "execution_count": 20,
     "metadata": {},
     "output_type": "execute_result"
    }
   ],
   "source": [
    "data_train['labels'].unique()"
   ]
  },
  {
   "cell_type": "code",
   "execution_count": 21,
   "metadata": {},
   "outputs": [
    {
     "name": "stdout",
     "output_type": "stream",
     "text": [
      "torch.Size([32])\n"
     ]
    }
   ],
   "source": [
    "print(targets.shape)  # Nên là [batch_size]\n"
   ]
  },
  {
   "cell_type": "code",
   "execution_count": 22,
   "metadata": {},
   "outputs": [
    {
     "name": "stdout",
     "output_type": "stream",
     "text": [
      "Epoch: 0, Loss:  1.438400387763977\n",
      "Epoch: 0, Loss:  0.3740096688270569\n",
      "Epoch: 0, Loss:  0.20990608632564545\n",
      "Epoch: 1, Loss:  0.19113825261592865\n",
      "Epoch: 1, Loss:  0.219577819108963\n",
      "Epoch: 1, Loss:  0.05942245200276375\n",
      "Epoch: 2, Loss:  0.05037606135010719\n",
      "Epoch: 2, Loss:  0.046369072049856186\n",
      "Epoch: 2, Loss:  0.09106702357530594\n",
      "Epoch: 3, Loss:  0.027436988428235054\n",
      "Epoch: 3, Loss:  0.039493627846241\n",
      "Epoch: 3, Loss:  0.0802902951836586\n",
      "Epoch: 4, Loss:  0.02224503830075264\n",
      "Epoch: 4, Loss:  0.043263740837574005\n",
      "Epoch: 4, Loss:  0.03562834858894348\n"
     ]
    }
   ],
   "source": [
    "for epoch in range(EPOCHS):\n",
    "    train(epoch)"
   ]
  },
  {
   "cell_type": "code",
   "execution_count": 23,
   "metadata": {},
   "outputs": [],
   "source": [
    "def validation():\n",
    "    model.eval()\n",
    "    fin_targets = []\n",
    "    fin_outputs = []\n",
    "\n",
    "    with torch.no_grad():\n",
    "        for data in valid_loader:\n",
    "            ids = data['ids'].to(device, dtype=torch.long)\n",
    "            mask = data['mask'].to(device, dtype=torch.long)\n",
    "            token_type_ids = data['token_type_ids'].to(device, dtype=torch.long)\n",
    "\n",
    "            targets = data['targets'].to(device, dtype=torch.long)\n",
    "\n",
    "            outputs = model(ids, mask, token_type_ids)\n",
    "            \n",
    "            fin_targets.extend(targets.cpu().detach().numpy())\n",
    "            fin_outputs.extend(outputs.cpu().detach().numpy())\n",
    "\n",
    "    return fin_outputs, fin_targets\n"
   ]
  },
  {
   "cell_type": "code",
   "execution_count": 24,
   "metadata": {},
   "outputs": [
    {
     "name": "stdout",
     "output_type": "stream",
     "text": [
      "Accuracy: 0.8903\n",
      "F1 Score (Micro): 0.8903\n",
      "F1 Score (Macro): 0.8800\n",
      "Confusion Matrix:\n",
      " [[340  12  81  77]\n",
      " [  2 518  19  31]\n",
      " [  3   3 960  30]\n",
      " [ 10   8  53 853]]\n"
     ]
    }
   ],
   "source": [
    "from sklearn import metrics\n",
    "import numpy as np\n",
    "\n",
    "outputs, targets = validation()\n",
    "\n",
    "# Dự đoán lớp bằng argmax\n",
    "preds = np.argmax(np.array(outputs), axis=1)\n",
    "targets = np.array(targets)\n",
    "\n",
    "# Đánh giá\n",
    "accuracy = metrics.accuracy_score(targets, preds)\n",
    "f1_micro = metrics.f1_score(targets, preds, average='micro')\n",
    "f1_macro = metrics.f1_score(targets, preds, average='macro')\n",
    "confusion = metrics.confusion_matrix(targets, preds)\n",
    "\n",
    "print(f\"Accuracy: {accuracy:.4f}\")\n",
    "print(f\"F1 Score (Micro): {f1_micro:.4f}\")\n",
    "print(f\"F1 Score (Macro): {f1_macro:.4f}\")\n",
    "print(\"Confusion Matrix:\\n\", confusion)\n"
   ]
  },
  {
   "cell_type": "code",
   "execution_count": null,
   "metadata": {},
   "outputs": [],
   "source": []
  }
 ],
 "metadata": {
  "kaggle": {
   "accelerator": "gpu",
   "dataSources": [
    {
     "datasetId": 2056465,
     "sourceId": 3411685,
     "sourceType": "datasetVersion"
    }
   ],
   "dockerImageVersionId": 30177,
   "isGpuEnabled": true,
   "isInternetEnabled": true,
   "language": "python",
   "sourceType": "notebook"
  },
  "kernelspec": {
   "display_name": "bert_test",
   "language": "python",
   "name": "python3"
  },
  "language_info": {
   "codemirror_mode": {
    "name": "ipython",
    "version": 3
   },
   "file_extension": ".py",
   "mimetype": "text/x-python",
   "name": "python",
   "nbconvert_exporter": "python",
   "pygments_lexer": "ipython3",
   "version": "3.10.16"
  }
 },
 "nbformat": 4,
 "nbformat_minor": 4
}
